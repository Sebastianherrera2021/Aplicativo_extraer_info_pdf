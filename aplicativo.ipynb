{
 "cells": [
  {
   "cell_type": "markdown",
   "metadata": {},
   "source": [
    "## *Ejecutable Tkinter para crear una interfaz gráfica (GUI)*"
   ]
  },
  {
   "cell_type": "code",
   "execution_count": 3,
   "metadata": {},
   "outputs": [
    {
     "name": "stdout",
     "output_type": "stream",
     "text": [
      "Requirement already satisfied: pdfplumber in c:\\users\\juan2\\appdata\\local\\packages\\pythonsoftwarefoundation.python.3.11_qbz5n2kfra8p0\\localcache\\local-packages\\python311\\site-packages (0.11.4)\n",
      "Requirement already satisfied: pdfminer.six==20231228 in c:\\users\\juan2\\appdata\\local\\packages\\pythonsoftwarefoundation.python.3.11_qbz5n2kfra8p0\\localcache\\local-packages\\python311\\site-packages (from pdfplumber) (20231228)\n",
      "Requirement already satisfied: Pillow>=9.1 in c:\\users\\juan2\\appdata\\local\\packages\\pythonsoftwarefoundation.python.3.11_qbz5n2kfra8p0\\localcache\\local-packages\\python311\\site-packages (from pdfplumber) (10.4.0)\n",
      "Requirement already satisfied: pypdfium2>=4.18.0 in c:\\users\\juan2\\appdata\\local\\packages\\pythonsoftwarefoundation.python.3.11_qbz5n2kfra8p0\\localcache\\local-packages\\python311\\site-packages (from pdfplumber) (4.30.0)\n",
      "Requirement already satisfied: charset-normalizer>=2.0.0 in c:\\users\\juan2\\appdata\\local\\packages\\pythonsoftwarefoundation.python.3.11_qbz5n2kfra8p0\\localcache\\local-packages\\python311\\site-packages (from pdfminer.six==20231228->pdfplumber) (3.3.2)\n",
      "Requirement already satisfied: cryptography>=36.0.0 in c:\\users\\juan2\\appdata\\local\\packages\\pythonsoftwarefoundation.python.3.11_qbz5n2kfra8p0\\localcache\\local-packages\\python311\\site-packages (from pdfminer.six==20231228->pdfplumber) (43.0.1)\n",
      "Requirement already satisfied: cffi>=1.12 in c:\\users\\juan2\\appdata\\local\\packages\\pythonsoftwarefoundation.python.3.11_qbz5n2kfra8p0\\localcache\\local-packages\\python311\\site-packages (from cryptography>=36.0.0->pdfminer.six==20231228->pdfplumber) (1.17.1)\n",
      "Requirement already satisfied: pycparser in c:\\users\\juan2\\appdata\\local\\packages\\pythonsoftwarefoundation.python.3.11_qbz5n2kfra8p0\\localcache\\local-packages\\python311\\site-packages (from cffi>=1.12->cryptography>=36.0.0->pdfminer.six==20231228->pdfplumber) (2.22)\n"
     ]
    },
    {
     "name": "stderr",
     "output_type": "stream",
     "text": [
      "\n",
      "[notice] A new release of pip is available: 24.0 -> 24.2\n",
      "[notice] To update, run: C:\\Users\\juan2\\AppData\\Local\\Microsoft\\WindowsApps\\PythonSoftwareFoundation.Python.3.11_qbz5n2kfra8p0\\python.exe -m pip install --upgrade pip\n",
      "\n",
      "[notice] A new release of pip is available: 24.0 -> 24.2\n",
      "[notice] To update, run: C:\\Users\\juan2\\AppData\\Local\\Microsoft\\WindowsApps\\PythonSoftwareFoundation.Python.3.11_qbz5n2kfra8p0\\python.exe -m pip install --upgrade pip\n"
     ]
    },
    {
     "name": "stdout",
     "output_type": "stream",
     "text": [
      "Requirement already satisfied: openpyxl in c:\\users\\juan2\\appdata\\local\\packages\\pythonsoftwarefoundation.python.3.11_qbz5n2kfra8p0\\localcache\\local-packages\\python311\\site-packages (3.1.5)\n",
      "Requirement already satisfied: et-xmlfile in c:\\users\\juan2\\appdata\\local\\packages\\pythonsoftwarefoundation.python.3.11_qbz5n2kfra8p0\\localcache\\local-packages\\python311\\site-packages (from openpyxl) (1.1.0)\n"
     ]
    }
   ],
   "source": [
    "!pip install pdfplumber\n",
    "!pip install openpyxl\n",
    "\n",
    "import pdfplumber\n",
    "import collections\n",
    "import re\n",
    "import pandas as pd\n",
    "import os\n",
    "import tkinter as tk\n",
    "from tkinter import filedialog, messagebox\n",
    "import threading  # Asegúrate de que esto esté importado\n",
    "\n",
    "# Función para procesar un solo PDF\n",
    "def procesar_pdf(archivo):\n",
    "    with pdfplumber.open(archivo) as pdf:\n",
    "        texto_total = \"\"\n",
    "        for page in pdf.pages:\n",
    "            texto = page.extract_text()\n",
    "            if texto:\n",
    "                texto_total += texto + \"\\n\"  # Acumular el texto total\n",
    "        return texto_total.lower()  # Devolver el texto en minúsculas\n",
    "\n",
    "# Función para procesar todos los archivos PDF en la carpeta\n",
    "def procesar_archivos(carpeta):\n",
    "    palabras_con_un_punto = [' CONTRATO DE PRESTACION DE SERVICIOS No.','plazo de ejecución:', 'objeto:']\n",
    "    palabras_con_dos_puntos = ['valor del contrato:', 'obligaciones:']\n",
    "\n",
    "    # Inicializar una lista para almacenar los resultados\n",
    "    resultados = []\n",
    "\n",
    "    for archivo in os.listdir(carpeta):\n",
    "        if archivo.endswith('.pdf'):\n",
    "            texto_pdf = procesar_pdf(os.path.join(carpeta, archivo))  # Procesar el PDF\n",
    "\n",
    "            # Contar cuántas veces aparece cada palabra/frase\n",
    "            for palabra in palabras_con_un_punto + palabras_con_dos_puntos:\n",
    "                coincidencias = re.findall(re.escape(palabra), texto_pdf, re.IGNORECASE)\n",
    "                frecuencia = len(coincidencias)\n",
    "\n",
    "                # Extraer el texto después de las palabras clave\n",
    "                if palabra in palabras_con_un_punto:\n",
    "                    patron = re.compile(re.escape(palabra) + r'\\s*([^.]+)\\.', re.IGNORECASE)\n",
    "                    texto_extraido = patron.findall(texto_pdf)\n",
    "                    texto_extraido = texto_extraido[0].strip() if texto_extraido else None\n",
    "                else:  # Para palabras con dos puntos\n",
    "                    patron = re.compile(re.escape(palabra) + r'\\s*(.*?)(?=\\.\\.)', re.IGNORECASE | re.DOTALL)\n",
    "                    texto_extraido = patron.findall(texto_pdf)\n",
    "                    texto_extraido = texto_extraido[0].strip() if texto_extraido else None\n",
    "                \n",
    "                # Añadir los resultados a la lista\n",
    "                resultados.append({\n",
    "                    'Archivo': archivo,\n",
    "                    'Clave': palabra,\n",
    "                    'Frecuencia': frecuencia,\n",
    "                    'Información': texto_extraido\n",
    "                })\n",
    "\n",
    "    # Crear DataFrame a partir de los resultados\n",
    "    df = pd.DataFrame(resultados)\n",
    "    df.to_excel('informacion_extraida.xlsx', index=False)\n",
    "    messagebox.showinfo(\"Éxito\", \"El archivo Excel ha sido exportado como 'informacion_extraida.xlsx'\")\n",
    "\n",
    "# Función para seleccionar la carpeta y procesar los archivos\n",
    "def seleccionar_carpeta():\n",
    "    carpeta = filedialog.askdirectory()\n",
    "    if carpeta:\n",
    "        threading.Thread(target=procesar_archivos, args=(carpeta,)).start()\n",
    "\n",
    "# Crear la interfaz gráfica\n",
    "root = tk.Tk()\n",
    "root.title(\"Procesador de PDFs\")\n",
    "\n",
    "# Crear un botón para seleccionar la carpeta\n",
    "boton_seleccionar = tk.Button(root, text=\"Seleccionar carpeta con PDFs\", command=seleccionar_carpeta)\n",
    "boton_seleccionar.pack(pady=20)\n",
    "\n",
    "# Ejecutar la aplicación\n",
    "root.mainloop()\n"
   ]
  }
 ],
 "metadata": {
  "kernelspec": {
   "display_name": "Python 3",
   "language": "python",
   "name": "python3"
  },
  "language_info": {
   "codemirror_mode": {
    "name": "ipython",
    "version": 3
   },
   "file_extension": ".py",
   "mimetype": "text/x-python",
   "name": "python",
   "nbconvert_exporter": "python",
   "pygments_lexer": "ipython3",
   "version": "3.11.9"
  }
 },
 "nbformat": 4,
 "nbformat_minor": 2
}
