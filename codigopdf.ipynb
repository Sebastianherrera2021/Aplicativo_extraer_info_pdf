{
 "cells": [
  {
   "cell_type": "markdown",
   "metadata": {},
   "source": [
    "### *Importar librerias*"
   ]
  },
  {
   "cell_type": "code",
   "execution_count": 82,
   "metadata": {},
   "outputs": [
    {
     "name": "stdout",
     "output_type": "stream",
     "text": [
      "Requirement already satisfied: pdfplumber in c:\\users\\juan2\\appdata\\local\\packages\\pythonsoftwarefoundation.python.3.11_qbz5n2kfra8p0\\localcache\\local-packages\\python311\\site-packages (0.11.4)\n",
      "Requirement already satisfied: pdfminer.six==20231228 in c:\\users\\juan2\\appdata\\local\\packages\\pythonsoftwarefoundation.python.3.11_qbz5n2kfra8p0\\localcache\\local-packages\\python311\\site-packages (from pdfplumber) (20231228)\n",
      "Requirement already satisfied: Pillow>=9.1 in c:\\users\\juan2\\appdata\\local\\packages\\pythonsoftwarefoundation.python.3.11_qbz5n2kfra8p0\\localcache\\local-packages\\python311\\site-packages (from pdfplumber) (10.4.0)\n",
      "Requirement already satisfied: pypdfium2>=4.18.0 in c:\\users\\juan2\\appdata\\local\\packages\\pythonsoftwarefoundation.python.3.11_qbz5n2kfra8p0\\localcache\\local-packages\\python311\\site-packages (from pdfplumber) (4.30.0)\n",
      "Requirement already satisfied: charset-normalizer>=2.0.0 in c:\\users\\juan2\\appdata\\local\\packages\\pythonsoftwarefoundation.python.3.11_qbz5n2kfra8p0\\localcache\\local-packages\\python311\\site-packages (from pdfminer.six==20231228->pdfplumber) (3.3.2)\n",
      "Requirement already satisfied: cryptography>=36.0.0 in c:\\users\\juan2\\appdata\\local\\packages\\pythonsoftwarefoundation.python.3.11_qbz5n2kfra8p0\\localcache\\local-packages\\python311\\site-packages (from pdfminer.six==20231228->pdfplumber) (43.0.1)\n",
      "Requirement already satisfied: cffi>=1.12 in c:\\users\\juan2\\appdata\\local\\packages\\pythonsoftwarefoundation.python.3.11_qbz5n2kfra8p0\\localcache\\local-packages\\python311\\site-packages (from cryptography>=36.0.0->pdfminer.six==20231228->pdfplumber) (1.17.1)\n",
      "Requirement already satisfied: pycparser in c:\\users\\juan2\\appdata\\local\\packages\\pythonsoftwarefoundation.python.3.11_qbz5n2kfra8p0\\localcache\\local-packages\\python311\\site-packages (from cffi>=1.12->cryptography>=36.0.0->pdfminer.six==20231228->pdfplumber) (2.22)\n"
     ]
    },
    {
     "name": "stderr",
     "output_type": "stream",
     "text": [
      "\n",
      "[notice] A new release of pip is available: 24.0 -> 24.2\n",
      "[notice] To update, run: C:\\Users\\juan2\\AppData\\Local\\Microsoft\\WindowsApps\\PythonSoftwareFoundation.Python.3.11_qbz5n2kfra8p0\\python.exe -m pip install --upgrade pip\n"
     ]
    },
    {
     "name": "stdout",
     "output_type": "stream",
     "text": [
      "Requirement already satisfied: openpyxl in c:\\users\\juan2\\appdata\\local\\packages\\pythonsoftwarefoundation.python.3.11_qbz5n2kfra8p0\\localcache\\local-packages\\python311\\site-packages (3.1.5)\n",
      "Requirement already satisfied: et-xmlfile in c:\\users\\juan2\\appdata\\local\\packages\\pythonsoftwarefoundation.python.3.11_qbz5n2kfra8p0\\localcache\\local-packages\\python311\\site-packages (from openpyxl) (1.1.0)\n"
     ]
    },
    {
     "name": "stderr",
     "output_type": "stream",
     "text": [
      "\n",
      "[notice] A new release of pip is available: 24.0 -> 24.2\n",
      "[notice] To update, run: C:\\Users\\juan2\\AppData\\Local\\Microsoft\\WindowsApps\\PythonSoftwareFoundation.Python.3.11_qbz5n2kfra8p0\\python.exe -m pip install --upgrade pip\n"
     ]
    }
   ],
   "source": [
    "#### codigo pdf ###\n",
    "!pip install pdfplumber\n",
    "!pip install openpyxl\n",
    "\n",
    "import pdfplumber\n",
    "import collections\n",
    "import re\n",
    "import pandas as pd\n"
   ]
  },
  {
   "cell_type": "markdown",
   "metadata": {},
   "source": [
    "## *Convertir pdf en txt*"
   ]
  },
  {
   "cell_type": "code",
   "execution_count": 83,
   "metadata": {},
   "outputs": [
    {
     "name": "stdout",
     "output_type": "stream",
     "text": [
      "Previsualización del contenido del archivo:\n",
      "Codigo de validación: 176845V0sG8r5MJI\n",
      "EL DEPARTAMENTO ADMINISTRATIVO NACIONAL DE ESTADÍSTICA DANE - FONDANE\n",
      "CERTIFICA\n",
      "Que JUAN SEBASTIAN HERRERA SANCHEZ, identificado(a) con cédula de ciudadanía No. 1,005,220,498, prestó sus\n",
      "servicios a este Departamento como se relaciona a continuación:\n",
      "» CONTRATO DE PRESTACION DE SERVICIOS No. 3334273 DE 2022 DANE.\n",
      "OBJETO: LOG_TRV_2022_TERR_TH_Prestación de servicios personales para brindar soporte técnico y administrativo\n",
      "en las actividades adelantadas por los supervisores de contrato en desarrollo de as operaciones estadísticas\n",
      "asignadas a la territorial de acuerdo con los procedimientos, ineamientos y normatividad vigente, en condiciones de\n",
      "calidad y oportunidad..\n",
      "PLAZO DE EJECUCIÓN: Por el periodo comprendido entre el 10 de agosto de 2022 y 30 de diciembre de 2022.\n",
      "SEDE - CIUDAD DE EJECUCIÓN: BUCARAMANGA\n",
      "VALOR DEL CONTRATO: SIETE MILLONES NOVECIENTOS NOVENTA MIL PESOS ($ 7.990.000,00) M/cte.\n",
      "OBLIGACIONES: 1. Participar en la ejecución de los programas y proyectos que se deriven de la etapa preoperativa,\n",
      "operativa y post operativa que se adelante en las diferentes operacionesestadísticas asignadas a la Territorial Centro\n",
      "Oriente.2. Realizar seguimiento y control a través de las herramientas y aplicativos establecidos en la Territorial con\n",
      "el fin de generar acciones que contribuyan al logro de las metas del Plan Acción Institucional de la Entidad.3.\n",
      "Presentar informes periódicos de acuerdo al requerimiento realizado por el supervisor de contrato en el que se\n",
      "relacionen logros, dificultades y acciones propositivas para el cumplimiento del objeto contractual en concordancia\n",
      "con las metas establecidas por la Territorial.4. Realizar seguimiento a la documentación requerida para el proceso de\n",
      "contratación y novedades contractuales al personal seleccionado en el desarrollo de las operaciones estadísticas,\n",
      "con el fin de tramitarlas al área correspondiente.5. Realizar seguimiento al proceso de contratación al personal\n",
      "seleccionado en el desarrollo de las operaciones estadísticas con el fin de apoyar cualquier requerimiento realizado\n",
      "por el área de gestión contractual.6. Apoyar en la verificación que realiza el supervisor del contrato en el cargue de\n",
      "todos los documentos de ejecución contractual en la plataforma SECOP II por parte del contratista.7. Apoyar en la\n",
      "verificación que realiza el supervisor del contrato que el área de Gestión Contractual de la Territorial cargue en la\n",
      "plataforma SECOP ll la afiliación a la ARL, el Certificado de Registro Presupuestal y el acta de aprobación de\n",
      "garantías en caso de ser exigida por la Entidad.8. Informar al supervisor del contrato de conformidad con la fecha de\n",
      "inicio de las operaciones estadísticas y previo cumplimiento de documentos cargados en la plataforma SECOP II, que\n",
      "proceda a colocar en estado de ejecución los contratos aprobados por el ordenador del gasto en la plataforma\n",
      "SECOP II.9. Verificar que la documentación emitida en el proceso de gestión documental se encuentre de acuerdo\n",
      "con las Tablas de Retención y/o Valoración documental, según normativa vigente y los requerimientos de la\n",
      "Dirección Territorial.10. Realizar la entrega del archivo definitivo de los procesos de contratación siguiendo los\n",
      "lineamientos de la Entidad11. Brindar soporte administrativo a los contratistas de las diferentes operaciones\n",
      "estadísticas en el trámite de pagos realizando revisión preliminar al formato único de informe de actividades y\n",
      "certificado de cumplimiento.12. Apoyar al supervisor de contrato en el trámite de paz y salvos y demás\n",
      "certificaciones necesarias para la liquidación de los contratos.13. Proyectar al supervisor del contrato la solicitud al\n",
      "área financiera sobre el avance financiero del contrato y mantener actualizada la información. 14. Apoyar en la\n",
      "verificación que realiza el supervisor de contrato que los contratistas se encuentren al día en sus pagos al sistema\n",
      "de seguridad social en cumplimiento de las obligaciones a que se refiere el artículo 50 de la Ley 789 de 2002.15.\n",
      "Adjuntar mensualmente en los expedientes de contratación en físico los formatos únicos de informe de actividades y\n",
      "certificado de cumplimiento con sus respectivos anexos.16. Apoyar en la verificación del cargue del formato único de\n",
      "informe de actividades y certificado de cumplimiento de cada contratista en la plataforma SECOP ll17. Brindar apoyo\n",
      "administrativo al supervisor de contrato en el desarrollo de las actividades que se deriven de las novedades\n",
      "contractuales en el desarrollo de las operaciones estadísticas.18. Apoyar el proceso de registro de hojas de vida en\n",
      "el aplicativo SIGEP19. Apoyar los procesos preoperativos en el alistamiento de material estadístico y recolección y\n",
      "Página 1 de 2\n",
      "validación de la información.20. Proyectar las notificaciones de requerimientos de información a las fuentes en el\n",
      "desarrollo de las operaciones estadísticas asignadas a la Territorial21. Asistir puntualmente a las reuniones o re\n",
      "inducciones operativas que se requieran para tratar aspectos metodológicos, tecnológicos y técnicos de la\n",
      "investigación con el fin de mejorar o socializar.22. Cumplir cabalmente el protocolo de bioseguridad para la\n",
      "prevención de la transmisión de COVID-19 DANE FONDANE en el marco de normas establecidas por el Gobierno\n",
      "Nacional.23. Hacer uso permanente de los canales de comunicación, notificación y acompañamiento dispuestos por\n",
      "el DANE, para informar las novedades y estar informados de manera permanente sobre las recomendaciones y\n",
      "decisiones que se tomen en el marco de la emergencia sanitaria.24. Desarrollar las demás actividades relacionadas\n",
      "con el objeto contractual designadas por el supervisor del contrato..\n",
      "ESTADO DEL CONTRATO: Finalizado\n",
      "De acuerdo con lo dispuesto por el numeral 3° del artículo 32 de la Ley 80 de 1993, en ningún caso estos contratos\n",
      "generaron relación laboral, ni prestaciones sociales por las obligaciones contratadas y se celebraron por el término\n",
      "estrictamente indispensable.\n",
      "Se expide la presente certificación a petición del interesado, el dia 25 del mes de septiembre de 2024 quien\n",
      "interese.\n",
      "ALVARO ANTONIO HERNÁNDEZ ARGUELLO\n",
      "Director Territorial Centro Oriente - Bucaramanga\n",
      "Página 2 de 2\n",
      "\n",
      "Conversión completada. El archivo se ha guardado como 'prueba.txt'\n"
     ]
    }
   ],
   "source": [
    "# Abre el archivo PDF\n",
    "with pdfplumber.open(r\"C:\\Users\\juan2\\Downloads\\prueba pdf.pdf\") as pdf:\n",
    "    # Crear o abrir un archivo de texto en modo escritura\n",
    "    with open(\"prueba.txt\", \"w\", encoding=\"utf-8\") as output_file:\n",
    "        # Iterar sobre todas las páginas del PDF\n",
    "        for page in pdf.pages:\n",
    "            # Extraer el texto de la página actual\n",
    "            texto = page.extract_text()\n",
    "            if texto:  # Verificar que haya texto en la página\n",
    "                output_file.write(texto)  # Escribir el texto en el archivo .txt\n",
    "                output_file.write(\"\\n\")  # Añadir un salto de línea entre páginas\n",
    "\n",
    "# Previsualizar el contenido del archivo .txt\n",
    "with open(\"prueba.txt\", \"r\", encoding=\"utf-8\") as preview_file:\n",
    "    contenido = preview_file.read()  # Leer todo el contenido del archivo\n",
    "    print(\"Previsualización del contenido del archivo:\")\n",
    "    print(contenido)\n",
    "\n",
    "print(\"Conversión completada. El archivo se ha guardado como 'prueba.txt'\")\n"
   ]
  },
  {
   "cell_type": "markdown",
   "metadata": {},
   "source": [
    "## *Eliminar puntuacion y cambiar a palabras*"
   ]
  },
  {
   "cell_type": "code",
   "execution_count": 84,
   "metadata": {},
   "outputs": [],
   "source": [
    "# Cargar el archivo\n",
    "with open('prueba.txt', encoding=\"utf8\") as file:\n",
    "    text = file.read().lower() \n",
    "\n",
    "# Eliminar puntuación y dividir el texto en palabras\n",
    "#texto_dividido = re.sub(r'[^\\w\\s]', '', text).split()"
   ]
  },
  {
   "cell_type": "markdown",
   "metadata": {},
   "source": [
    "## *Validacion cantidad de palabras*"
   ]
  },
  {
   "cell_type": "code",
   "execution_count": 85,
   "metadata": {},
   "outputs": [
    {
     "name": "stdout",
     "output_type": "stream",
     "text": [
      "La frase 'valor del contrato:' aparece 1 veces.\n",
      "La frase 'obligaciones:' aparece 1 veces.\n",
      "La frase 'plazo de ejecución:' aparece 1 veces.\n",
      "La frase 'objeto:' aparece 1 veces.\n"
     ]
    }
   ],
   "source": [
    "## contar cuantas veces estan las siguientes palabras: VALOR DEL CONTRATO, OBLIGACIONES, PLAZO DE EJECUCIÓN, OBJETO\n",
    "\n",
    "# Definir las palabras/frases que quieres contar\n",
    "palabras_clave = ['valor del contrato:', 'obligaciones:', 'plazo de ejecución:', 'objeto:']\n",
    "\n",
    "# Crear un diccionario para almacenar las frecuencias\n",
    "frecuencia_palabras = {}\n",
    "\n",
    "# Contar cuántas veces aparece cada palabra/frase\n",
    "for palabra in palabras_clave:\n",
    "    # Usamos re.escape para asegurarnos de que cualquier caracter especial en la frase se escape correctamente\n",
    "    coincidencias = re.findall(re.escape(palabra), text, re.IGNORECASE)\n",
    "    frecuencia_palabras[palabra] = len(coincidencias)\n",
    "\n",
    "# Imprimir los resultados\n",
    "for palabra, frecuencia in frecuencia_palabras.items():\n",
    "    print(f\"La frase '{palabra}' aparece {frecuencia} veces.\")"
   ]
  },
  {
   "cell_type": "markdown",
   "metadata": {},
   "source": [
    "## *Plazo de ejecucion y objeto*"
   ]
  },
  {
   "cell_type": "code",
   "execution_count": 93,
   "metadata": {},
   "outputs": [
    {
     "name": "stdout",
     "output_type": "stream",
     "text": [
      "Texto después de 'plazo de ejecución:':\n",
      "por el periodo comprendido entre el 10 de agosto de 2022 y 30 de diciembre de 2022\n",
      "--------------------------------------------------\n",
      "Texto después de 'objeto:':\n",
      "log_trv_2022_terr_th_prestación de servicios personales para brindar soporte técnico y administrativo\n",
      "en las actividades adelantadas por los supervisores de contrato en desarrollo de as operaciones estadísticas\n",
      "asignadas a la territorial de acuerdo con los procedimientos, ineamientos y normatividad vigente, en condiciones de\n",
      "calidad y oportunidad\n",
      "--------------------------------------------------\n"
     ]
    }
   ],
   "source": [
    "import re\n",
    "\n",
    "# Cargar el archivo\n",
    "with open('prueba.txt', encoding=\"utf8\") as file:\n",
    "    text = file.read().lower()\n",
    "\n",
    "# Definir las palabras/frases clave para un solo punto\n",
    "palabras_con_un_punto = ['plazo de ejecución:', 'objeto:']\n",
    "\n",
    "# Diccionario para almacenar el texto después de cada palabra clave\n",
    "texto_despues_un_punto = {}\n",
    "\n",
    "# Función para buscar texto después de las palabras clave con un único punto (.)\n",
    "def extraer_con_un_punto(palabra, text):\n",
    "    patron = re.compile(re.escape(palabra) + r'\\s*([^.]+)\\.', re.IGNORECASE)\n",
    "    coincidencias = patron.findall(text)\n",
    "    return coincidencias[0].strip() if coincidencias else None\n",
    "\n",
    "# Buscar en las palabras clave con un solo punto\n",
    "for palabra in palabras_con_un_punto:\n",
    "    resultado = extraer_con_un_punto(palabra, text)\n",
    "    if resultado:\n",
    "        texto_despues_un_punto[palabra] = resultado\n",
    "\n",
    "# Imprimir los resultados de un solo punto\n",
    "for palabra, texto in texto_despues_un_punto.items():\n",
    "    print(f\"Texto después de '{palabra}':\")\n",
    "    print(texto)\n",
    "    print(\"-\" * 50)  # Línea divisoria para mayor claridad"
   ]
  },
  {
   "cell_type": "markdown",
   "metadata": {},
   "source": [
    "## *Valor del contrato y obligaciones:*"
   ]
  },
  {
   "cell_type": "code",
   "execution_count": 95,
   "metadata": {},
   "outputs": [
    {
     "name": "stdout",
     "output_type": "stream",
     "text": [
      "Texto después de 'valor del contrato:':\n",
      "siete millones novecientos noventa mil pesos ($ 7.990.000,00) m/cte.\n",
      "obligaciones: 1. participar en la ejecución de los programas y proyectos que se deriven de la etapa preoperativa,\n",
      "operativa y post operativa que se adelante en las diferentes operacionesestadísticas asignadas a la territorial centro\n",
      "oriente.2. realizar seguimiento y control a través de las herramientas y aplicativos establecidos en la territorial con\n",
      "el fin de generar acciones que contribuyan al logro de las metas del plan acción institucional de la entidad.3.\n",
      "presentar informes periódicos de acuerdo al requerimiento realizado por el supervisor de contrato en el que se\n",
      "relacionen logros, dificultades y acciones propositivas para el cumplimiento del objeto contractual en concordancia\n",
      "con las metas establecidas por la territorial.4. realizar seguimiento a la documentación requerida para el proceso de\n",
      "contratación y novedades contractuales al personal seleccionado en el desarrollo de las operaciones estadísticas,\n",
      "con el fin de tramitarlas al área correspondiente.5. realizar seguimiento al proceso de contratación al personal\n",
      "seleccionado en el desarrollo de las operaciones estadísticas con el fin de apoyar cualquier requerimiento realizado\n",
      "por el área de gestión contractual.6. apoyar en la verificación que realiza el supervisor del contrato en el cargue de\n",
      "todos los documentos de ejecución contractual en la plataforma secop ii por parte del contratista.7. apoyar en la\n",
      "verificación que realiza el supervisor del contrato que el área de gestión contractual de la territorial cargue en la\n",
      "plataforma secop ll la afiliación a la arl, el certificado de registro presupuestal y el acta de aprobación de\n",
      "garantías en caso de ser exigida por la entidad.8. informar al supervisor del contrato de conformidad con la fecha de\n",
      "inicio de las operaciones estadísticas y previo cumplimiento de documentos cargados en la plataforma secop ii, que\n",
      "proceda a colocar en estado de ejecución los contratos aprobados por el ordenador del gasto en la plataforma\n",
      "secop ii.9. verificar que la documentación emitida en el proceso de gestión documental se encuentre de acuerdo\n",
      "con las tablas de retención y/o valoración documental, según normativa vigente y los requerimientos de la\n",
      "dirección territorial.10. realizar la entrega del archivo definitivo de los procesos de contratación siguiendo los\n",
      "lineamientos de la entidad11. brindar soporte administrativo a los contratistas de las diferentes operaciones\n",
      "estadísticas en el trámite de pagos realizando revisión preliminar al formato único de informe de actividades y\n",
      "certificado de cumplimiento.12. apoyar al supervisor de contrato en el trámite de paz y salvos y demás\n",
      "certificaciones necesarias para la liquidación de los contratos.13. proyectar al supervisor del contrato la solicitud al\n",
      "área financiera sobre el avance financiero del contrato y mantener actualizada la información. 14. apoyar en la\n",
      "verificación que realiza el supervisor de contrato que los contratistas se encuentren al día en sus pagos al sistema\n",
      "de seguridad social en cumplimiento de las obligaciones a que se refiere el artículo 50 de la ley 789 de 2002.15.\n",
      "adjuntar mensualmente en los expedientes de contratación en físico los formatos únicos de informe de actividades y\n",
      "certificado de cumplimiento con sus respectivos anexos.16. apoyar en la verificación del cargue del formato único de\n",
      "informe de actividades y certificado de cumplimiento de cada contratista en la plataforma secop ll17. brindar apoyo\n",
      "administrativo al supervisor de contrato en el desarrollo de las actividades que se deriven de las novedades\n",
      "contractuales en el desarrollo de las operaciones estadísticas.18. apoyar el proceso de registro de hojas de vida en\n",
      "el aplicativo sigep19. apoyar los procesos preoperativos en el alistamiento de material estadístico y recolección y\n",
      "página 1 de 2\n",
      "validación de la información.20. proyectar las notificaciones de requerimientos de información a las fuentes en el\n",
      "desarrollo de las operaciones estadísticas asignadas a la territorial21. asistir puntualmente a las reuniones o re\n",
      "inducciones operativas que se requieran para tratar aspectos metodológicos, tecnológicos y técnicos de la\n",
      "investigación con el fin de mejorar o socializar.22. cumplir cabalmente el protocolo de bioseguridad para la\n",
      "prevención de la transmisión de covid-19 dane fondane en el marco de normas establecidas por el gobierno\n",
      "nacional.23. hacer uso permanente de los canales de comunicación, notificación y acompañamiento dispuestos por\n",
      "el dane, para informar las novedades y estar informados de manera permanente sobre las recomendaciones y\n",
      "decisiones que se tomen en el marco de la emergencia sanitaria.24. desarrollar las demás actividades relacionadas\n",
      "con el objeto contractual designadas por el supervisor del contrato\n",
      "--------------------------------------------------\n",
      "Texto después de 'obligaciones:':\n",
      "1. participar en la ejecución de los programas y proyectos que se deriven de la etapa preoperativa,\n",
      "operativa y post operativa que se adelante en las diferentes operacionesestadísticas asignadas a la territorial centro\n",
      "oriente.2. realizar seguimiento y control a través de las herramientas y aplicativos establecidos en la territorial con\n",
      "el fin de generar acciones que contribuyan al logro de las metas del plan acción institucional de la entidad.3.\n",
      "presentar informes periódicos de acuerdo al requerimiento realizado por el supervisor de contrato en el que se\n",
      "relacionen logros, dificultades y acciones propositivas para el cumplimiento del objeto contractual en concordancia\n",
      "con las metas establecidas por la territorial.4. realizar seguimiento a la documentación requerida para el proceso de\n",
      "contratación y novedades contractuales al personal seleccionado en el desarrollo de las operaciones estadísticas,\n",
      "con el fin de tramitarlas al área correspondiente.5. realizar seguimiento al proceso de contratación al personal\n",
      "seleccionado en el desarrollo de las operaciones estadísticas con el fin de apoyar cualquier requerimiento realizado\n",
      "por el área de gestión contractual.6. apoyar en la verificación que realiza el supervisor del contrato en el cargue de\n",
      "todos los documentos de ejecución contractual en la plataforma secop ii por parte del contratista.7. apoyar en la\n",
      "verificación que realiza el supervisor del contrato que el área de gestión contractual de la territorial cargue en la\n",
      "plataforma secop ll la afiliación a la arl, el certificado de registro presupuestal y el acta de aprobación de\n",
      "garantías en caso de ser exigida por la entidad.8. informar al supervisor del contrato de conformidad con la fecha de\n",
      "inicio de las operaciones estadísticas y previo cumplimiento de documentos cargados en la plataforma secop ii, que\n",
      "proceda a colocar en estado de ejecución los contratos aprobados por el ordenador del gasto en la plataforma\n",
      "secop ii.9. verificar que la documentación emitida en el proceso de gestión documental se encuentre de acuerdo\n",
      "con las tablas de retención y/o valoración documental, según normativa vigente y los requerimientos de la\n",
      "dirección territorial.10. realizar la entrega del archivo definitivo de los procesos de contratación siguiendo los\n",
      "lineamientos de la entidad11. brindar soporte administrativo a los contratistas de las diferentes operaciones\n",
      "estadísticas en el trámite de pagos realizando revisión preliminar al formato único de informe de actividades y\n",
      "certificado de cumplimiento.12. apoyar al supervisor de contrato en el trámite de paz y salvos y demás\n",
      "certificaciones necesarias para la liquidación de los contratos.13. proyectar al supervisor del contrato la solicitud al\n",
      "área financiera sobre el avance financiero del contrato y mantener actualizada la información. 14. apoyar en la\n",
      "verificación que realiza el supervisor de contrato que los contratistas se encuentren al día en sus pagos al sistema\n",
      "de seguridad social en cumplimiento de las obligaciones a que se refiere el artículo 50 de la ley 789 de 2002.15.\n",
      "adjuntar mensualmente en los expedientes de contratación en físico los formatos únicos de informe de actividades y\n",
      "certificado de cumplimiento con sus respectivos anexos.16. apoyar en la verificación del cargue del formato único de\n",
      "informe de actividades y certificado de cumplimiento de cada contratista en la plataforma secop ll17. brindar apoyo\n",
      "administrativo al supervisor de contrato en el desarrollo de las actividades que se deriven de las novedades\n",
      "contractuales en el desarrollo de las operaciones estadísticas.18. apoyar el proceso de registro de hojas de vida en\n",
      "el aplicativo sigep19. apoyar los procesos preoperativos en el alistamiento de material estadístico y recolección y\n",
      "página 1 de 2\n",
      "validación de la información.20. proyectar las notificaciones de requerimientos de información a las fuentes en el\n",
      "desarrollo de las operaciones estadísticas asignadas a la territorial21. asistir puntualmente a las reuniones o re\n",
      "inducciones operativas que se requieran para tratar aspectos metodológicos, tecnológicos y técnicos de la\n",
      "investigación con el fin de mejorar o socializar.22. cumplir cabalmente el protocolo de bioseguridad para la\n",
      "prevención de la transmisión de covid-19 dane fondane en el marco de normas establecidas por el gobierno\n",
      "nacional.23. hacer uso permanente de los canales de comunicación, notificación y acompañamiento dispuestos por\n",
      "el dane, para informar las novedades y estar informados de manera permanente sobre las recomendaciones y\n",
      "decisiones que se tomen en el marco de la emergencia sanitaria.24. desarrollar las demás actividades relacionadas\n",
      "con el objeto contractual designadas por el supervisor del contrato\n",
      "--------------------------------------------------\n"
     ]
    }
   ],
   "source": [
    "# Definir las palabras/frases clave para dos puntos\n",
    "palabras_con_dos_puntos = ['valor del contrato:', 'obligaciones:']\n",
    "\n",
    "# Diccionario para almacenar el texto después de cada palabra clave\n",
    "texto_despues_dos_puntos = {}\n",
    "\n",
    "# Función para buscar texto después de las palabras clave con dos puntos seguidos (..)\n",
    "def extraer_con_dos_puntos(palabra, text):\n",
    "    patron = re.compile(re.escape(palabra) + r'\\s*(.*?)(?=\\.\\.)', re.IGNORECASE | re.DOTALL)\n",
    "    coincidencias = patron.findall(text)\n",
    "    return coincidencias[0].strip() if coincidencias else None\n",
    "\n",
    "# Buscar en las palabras clave que necesitan chequeo de dos puntos seguidos\n",
    "for palabra in palabras_con_dos_puntos:\n",
    "    resultado = extraer_con_dos_puntos(palabra, text)\n",
    "    if resultado:\n",
    "        texto_despues_dos_puntos[palabra] = resultado\n",
    "\n",
    "# Imprimir los resultados de dos puntos\n",
    "for palabra, texto in texto_despues_dos_puntos.items():\n",
    "    print(f\"Texto después de '{palabra}':\")\n",
    "    print(texto)\n",
    "    print(\"-\" * 50)  # Línea divisoria para mayor claridad\n"
   ]
  },
  {
   "cell_type": "markdown",
   "metadata": {},
   "source": [
    "## *construccion de data frame*"
   ]
  },
  {
   "cell_type": "code",
   "execution_count": 90,
   "metadata": {},
   "outputs": [
    {
     "name": "stdout",
     "output_type": "stream",
     "text": [
      "                 Clave                                        Información\n",
      "0  plazo de ejecución:  por el periodo comprendido entre el 10 de agos...\n",
      "1              objeto:  log_trv_2022_terr_th_prestación de servicios p...\n",
      "2  valor del contrato:  siete millones novecientos noventa mil pesos (...\n",
      "3        obligaciones:  1. participar en la ejecución de los programas...\n"
     ]
    }
   ],
   "source": [
    "# Combinar los dos diccionarios en uno solo\n",
    "texto_despues_total = {**texto_despues_un_punto, **texto_despues_dos_puntos}\n",
    "\n",
    "# Crear DataFrame a partir del diccionario combinado\n",
    "df = pd.DataFrame(list(texto_despues_total.items()), columns=['Clave', 'Información'])\n",
    "print(df)"
   ]
  },
  {
   "cell_type": "markdown",
   "metadata": {},
   "source": [
    "## *Exportar a excel*"
   ]
  },
  {
   "cell_type": "code",
   "execution_count": 89,
   "metadata": {},
   "outputs": [
    {
     "name": "stdout",
     "output_type": "stream",
     "text": [
      "DataFrame exportado a 'informacion_extraida.xlsx'\n"
     ]
    }
   ],
   "source": [
    "# Exportar el DataFrame a un archivo Excel\n",
    "df.to_excel('informacion_extraida.xlsx', index=False)\n",
    "\n",
    "# Imprimir el DataFrame\n",
    "print(\"DataFrame exportado a 'informacion_extraida.xlsx'\")\n"
   ]
  }
 ],
 "metadata": {
  "kernelspec": {
   "display_name": "Python 3",
   "language": "python",
   "name": "python3"
  },
  "language_info": {
   "codemirror_mode": {
    "name": "ipython",
    "version": 3
   },
   "file_extension": ".py",
   "mimetype": "text/x-python",
   "name": "python",
   "nbconvert_exporter": "python",
   "pygments_lexer": "ipython3",
   "version": "3.11.9"
  }
 },
 "nbformat": 4,
 "nbformat_minor": 2
}
