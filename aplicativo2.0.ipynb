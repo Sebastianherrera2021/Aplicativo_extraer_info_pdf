{
 "cells": [
  {
   "cell_type": "markdown",
   "metadata": {},
   "source": [
    "## *Aplicativo 2.0*"
   ]
  },
  {
   "cell_type": "code",
   "execution_count": 1,
   "metadata": {},
   "outputs": [
    {
     "name": "stdout",
     "output_type": "stream",
     "text": [
      "Collecting pyinstaller"
     ]
    },
    {
     "name": "stderr",
     "output_type": "stream",
     "text": [
      "\n",
      "[notice] A new release of pip is available: 24.0 -> 24.2\n",
      "[notice] To update, run: C:\\Users\\juan2\\AppData\\Local\\Microsoft\\WindowsApps\\PythonSoftwareFoundation.Python.3.11_qbz5n2kfra8p0\\python.exe -m pip install --upgrade pip\n"
     ]
    },
    {
     "name": "stdout",
     "output_type": "stream",
     "text": [
      "\n",
      "  Downloading pyinstaller-6.10.0-py3-none-win_amd64.whl.metadata (8.3 kB)\n",
      "Requirement already satisfied: setuptools>=42.0.0 in c:\\program files\\windowsapps\\pythonsoftwarefoundation.python.3.11_3.11.2544.0_x64__qbz5n2kfra8p0\\lib\\site-packages (from pyinstaller) (65.5.0)\n",
      "Collecting altgraph (from pyinstaller)\n",
      "  Downloading altgraph-0.17.4-py2.py3-none-any.whl.metadata (7.3 kB)\n",
      "Collecting pyinstaller-hooks-contrib>=2024.8 (from pyinstaller)\n",
      "  Downloading pyinstaller_hooks_contrib-2024.8-py3-none-any.whl.metadata (16 kB)\n",
      "Requirement already satisfied: packaging>=22.0 in c:\\users\\juan2\\appdata\\local\\packages\\pythonsoftwarefoundation.python.3.11_qbz5n2kfra8p0\\localcache\\local-packages\\python311\\site-packages (from pyinstaller) (24.1)\n",
      "Collecting pefile>=2022.5.30 (from pyinstaller)\n",
      "  Downloading pefile-2024.8.26-py3-none-any.whl.metadata (1.4 kB)\n",
      "Collecting pywin32-ctypes>=0.2.1 (from pyinstaller)\n",
      "  Downloading pywin32_ctypes-0.2.3-py3-none-any.whl.metadata (3.9 kB)\n",
      "Downloading pyinstaller-6.10.0-py3-none-win_amd64.whl (1.3 MB)\n",
      "   ---------------------------------------- 0.0/1.3 MB ? eta -:--:--\n",
      "   ---------------------------------------- 0.0/1.3 MB ? eta -:--:--\n",
      "   -- ------------------------------------- 0.1/1.3 MB 1.2 MB/s eta 0:00:02\n",
      "   ----------------- ---------------------- 0.6/1.3 MB 5.3 MB/s eta 0:00:01\n",
      "   ---------------------------------------- 1.3/1.3 MB 9.4 MB/s eta 0:00:00\n",
      "Downloading pefile-2024.8.26-py3-none-any.whl (74 kB)\n",
      "   ---------------------------------------- 0.0/74.8 kB ? eta -:--:--\n",
      "   ---------------------------------------- 74.8/74.8 kB 4.3 MB/s eta 0:00:00\n",
      "Downloading pyinstaller_hooks_contrib-2024.8-py3-none-any.whl (322 kB)\n",
      "   ---------------------------------------- 0.0/322.8 kB ? eta -:--:--\n",
      "   --------------------------------------- 322.8/322.8 kB 20.8 MB/s eta 0:00:00\n",
      "Downloading pywin32_ctypes-0.2.3-py3-none-any.whl (30 kB)\n",
      "Downloading altgraph-0.17.4-py2.py3-none-any.whl (21 kB)\n",
      "Installing collected packages: altgraph, pywin32-ctypes, pyinstaller-hooks-contrib, pefile, pyinstaller\n",
      "Successfully installed altgraph-0.17.4 pefile-2024.8.26 pyinstaller-6.10.0 pyinstaller-hooks-contrib-2024.8 pywin32-ctypes-0.2.3\n"
     ]
    }
   ],
   "source": [
    "!pip install pyinstaller\n"
   ]
  },
  {
   "cell_type": "code",
   "execution_count": null,
   "metadata": {},
   "outputs": [],
   "source": []
  }
 ],
 "metadata": {
  "kernelspec": {
   "display_name": "Python 3",
   "language": "python",
   "name": "python3"
  },
  "language_info": {
   "codemirror_mode": {
    "name": "ipython",
    "version": 3
   },
   "file_extension": ".py",
   "mimetype": "text/x-python",
   "name": "python",
   "nbconvert_exporter": "python",
   "pygments_lexer": "ipython3",
   "version": "3.11.9"
  }
 },
 "nbformat": 4,
 "nbformat_minor": 2
}
